{
 "cells": [
  {
   "cell_type": "code",
   "execution_count": 50,
   "id": "41d9ec8f-db51-4093-ade4-1482c8a52387",
   "metadata": {},
   "outputs": [],
   "source": [
    "import torch\n",
    "import torch.nn as nn\n",
    "from torchvision import transforms\n",
    "from PIL import Image"
   ]
  },
  {
   "cell_type": "code",
   "execution_count": 51,
   "id": "5a9260c1-4738-4025-8822-09d67024b6fd",
   "metadata": {},
   "outputs": [],
   "source": [
    "class CNN(nn.Module):\n",
    "    def __init__(self, num_filters, kernel_size, dropout_rate, num_units1, num_units2):\n",
    "        super(CNN, self).__init__()\n",
    "        self.conv1 = nn.Conv2d(3, num_filters, kernel_size=kernel_size, padding=1)\n",
    "        self.pool = nn.MaxPool2d(2, 2)\n",
    "        self.fc1 = nn.Linear(num_filters * self._get_conv_output_size(64, kernel_size, 2) ** 2, num_units1)\n",
    "        self.fc2 = nn.Linear(num_units1, num_units2)\n",
    "        self.fc3 = nn.Linear(num_units2, 5)  # 5 classes\n",
    "        self.dropout = nn.Dropout(dropout_rate)\n",
    "\n",
    "    def forward(self, x):\n",
    "        x = self.pool(torch.relu(self.conv1(x)))\n",
    "        x = x.view(-1, self.num_flat_features(x))\n",
    "        x = torch.relu(self.fc1(x))\n",
    "        x = self.dropout(x)\n",
    "        x = torch.relu(self.fc2(x))\n",
    "        x = self.fc3(x)\n",
    "        return x\n",
    "\n",
    "    def num_flat_features(self, x):\n",
    "        size = x.size()[1:]  # all dimensions except the batch dimension\n",
    "        num_features = 1\n",
    "        for s in size:\n",
    "            num_features *= s\n",
    "        return num_features\n",
    "\n",
    "    def _get_conv_output_size(self, input_size, kernel_size, pool_size):\n",
    "        return (input_size - kernel_size + 2) // pool_size + 1"
   ]
  },
  {
   "cell_type": "code",
   "execution_count": 52,
   "id": "52ef812a-bc46-44be-9a78-58e1c70a1359",
   "metadata": {},
   "outputs": [],
   "source": [
    "def preprocess_image(image_path):\n",
    "    transform = transforms.Compose([\n",
    "        transforms.Resize((64, 64)),\n",
    "        transforms.ToTensor(),\n",
    "    ])\n",
    "    image = Image.open(image_path).convert('RGB')\n",
    "    image = transform(image)\n",
    "    image = image.unsqueeze(0)  # Add batch dimension\n",
    "    return image"
   ]
  },
  {
   "cell_type": "code",
   "execution_count": 53,
   "id": "9a9bb732-f71e-4b99-b7d1-1b1e4f27921e",
   "metadata": {},
   "outputs": [],
   "source": [
    "def predict_image(model, image_path, device, class_names):\n",
    "    model.eval()\n",
    "    image = preprocess_image(image_path).to(device)\n",
    "    with torch.no_grad():\n",
    "        outputs = model(image)\n",
    "        _, predicted = torch.max(outputs, 1)\n",
    "    return class_names[predicted.item()]"
   ]
  },
  {
   "cell_type": "code",
   "execution_count": 54,
   "id": "e6449391-6f6c-46d7-b399-2929a203c1c5",
   "metadata": {},
   "outputs": [],
   "source": [
    "saved_model_path = 'best_model_20240615_101908.pth'\n",
    "num_filters = 32\n",
    "kernel_size = 5\n",
    "dropout_rate = 0.0\n",
    "num_units1 = 64\n",
    "num_units2 = 32"
   ]
  },
  {
   "cell_type": "code",
   "execution_count": 55,
   "id": "db45f9d2-53ec-4de0-98d4-f345cd96a89f",
   "metadata": {},
   "outputs": [],
   "source": [
    "device = torch.device('cuda' if torch.cuda.is_available() else 'cpu')"
   ]
  },
  {
   "cell_type": "code",
   "execution_count": 56,
   "id": "dc97d207-6eab-4e88-ab00-665814851d08",
   "metadata": {},
   "outputs": [
    {
     "data": {
      "text/plain": [
       "<All keys matched successfully>"
      ]
     },
     "execution_count": 56,
     "metadata": {},
     "output_type": "execute_result"
    }
   ],
   "source": [
    "model = CNN(num_filters, kernel_size, dropout_rate, num_units1, num_units2).to(device)\n",
    "model.load_state_dict(torch.load(saved_model_path, map_location=device))"
   ]
  },
  {
   "cell_type": "code",
   "execution_count": 57,
   "id": "12ac081a-b349-4587-8c48-71f916436e8a",
   "metadata": {},
   "outputs": [],
   "source": [
    "class_names = ['airfield', 'bus stand', 'canyon', 'market', 'temple']"
   ]
  },
  {
   "cell_type": "code",
   "execution_count": 82,
   "id": "8d41dfe5-d7cf-4697-9b18-536934f27447",
   "metadata": {},
   "outputs": [],
   "source": [
    "image_path = \"TestImages/00002385.jpg\""
   ]
  },
  {
   "cell_type": "code",
   "execution_count": 83,
   "id": "b7b8aee1-b77a-4ad0-a9b9-7e714596302e",
   "metadata": {},
   "outputs": [
    {
     "name": "stdout",
     "output_type": "stream",
     "text": [
      "The predicted class for the image is: canyon\n"
     ]
    }
   ],
   "source": [
    "predicted_class = predict_image(model, image_path, device, class_names)\n",
    "print(f'The predicted class for the image is: {predicted_class}')"
   ]
  },
  {
   "cell_type": "code",
   "execution_count": null,
   "id": "848acaf3-6d3b-4823-99a3-8bbdd20188e4",
   "metadata": {},
   "outputs": [],
   "source": []
  }
 ],
 "metadata": {
  "kernelspec": {
   "display_name": "Python 3 (ipykernel)",
   "language": "python",
   "name": "python3"
  },
  "language_info": {
   "codemirror_mode": {
    "name": "ipython",
    "version": 3
   },
   "file_extension": ".py",
   "mimetype": "text/x-python",
   "name": "python",
   "nbconvert_exporter": "python",
   "pygments_lexer": "ipython3",
   "version": "3.11.4"
  }
 },
 "nbformat": 4,
 "nbformat_minor": 5
}
