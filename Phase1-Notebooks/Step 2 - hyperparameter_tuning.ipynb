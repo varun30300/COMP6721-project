{
 "cells": [
  {
   "cell_type": "code",
   "execution_count": 64,
   "id": "77c3340d-3904-4b38-adb7-5beb529272fd",
   "metadata": {},
   "outputs": [],
   "source": [
    "import pickle\n",
    "import numpy as np\n",
    "import csv\n",
    "from sklearn.tree import DecisionTreeClassifier\n",
    "from sklearn.metrics import accuracy_score"
   ]
  },
  {
   "cell_type": "code",
   "execution_count": 65,
   "id": "8a89b0fc-c570-4e18-abbd-dc1688d30e2b",
   "metadata": {},
   "outputs": [],
   "source": [
    "def load_features(pickle_file):\n",
    "    with open(pickle_file, 'rb') as f:\n",
    "        features = pickle.load(f)\n",
    "    return features"
   ]
  },
  {
   "cell_type": "code",
   "execution_count": 66,
   "id": "a2330782-aacc-4ecf-93c3-5e2b86a68b45",
   "metadata": {},
   "outputs": [],
   "source": [
    "validation_features = load_features(\"Validation_Features.pkl\")\n",
    "test_features = load_features(\"Test_Features.pkl\")"
   ]
  },
  {
   "cell_type": "code",
   "execution_count": 67,
   "id": "d54584dd-e981-46b0-a1bb-26e2d8af054e",
   "metadata": {},
   "outputs": [],
   "source": [
    "X_val, y_val = validation_features\n",
    "X_test, y_test = test_features"
   ]
  },
  {
   "cell_type": "code",
   "execution_count": 69,
   "id": "f44cece8-a297-41de-9f7f-536a13d6ee77",
   "metadata": {
    "scrolled": true
   },
   "outputs": [],
   "source": [
    "criterion=['entropy']\n",
    "max_depth = [x for x in range(1,21)]\n",
    "max_features = [x for x in range(1,16)]\n",
    "# print(max_depth)\n",
    "# print(max_features)\n",
    "results = np.empty((len(max_depth)+1, len(max_features)+1), dtype=object)\n",
    "# print(results)"
   ]
  },
  {
   "cell_type": "code",
   "execution_count": 63,
   "id": "ba4b575d-b32f-4a4a-8f1c-b5ed5733f050",
   "metadata": {},
   "outputs": [],
   "source": [
    "max_test = 0"
   ]
  },
  {
   "cell_type": "code",
   "execution_count": 76,
   "id": "def2c86c-08e8-49e3-af05-87a10f5b63fe",
   "metadata": {},
   "outputs": [],
   "source": [
    "for depth in max_depth:\n",
    "    for feature in max_features:\n",
    "    \n",
    "        classifier = DecisionTreeClassifier(criterion='entropy',max_depth=depth, max_features=feature)\n",
    "        classifier.fit(X_val, y_val)\n",
    "\n",
    "        # training  accuracy\n",
    "        y_pred = classifier.predict(X_val)\n",
    "        validation_accuracy = accuracy_score(y_val, y_pred)\n",
    "\n",
    "        # testing  accuracy\n",
    "        y_test_pred = classifier.predict(X_test)\n",
    "        test_accuracy = accuracy_score(y_test, y_test_pred)\n",
    "\n",
    "        if test_accuracy > max_test:\n",
    "            max_test = test_accuracy\n",
    "            sol = [depth, feature, train_accuracy, test_accuracy]\n",
    "        results[depth-1, feature-1] = \"Validation Accuracy - \" + str(validation_accuracy) + \"\\n\" + \"Test Accuracy - \" + str(test_accuracy)"
   ]
  },
  {
   "cell_type": "code",
   "execution_count": 79,
   "id": "9475535b-c94a-4d76-9c1c-67c2773dbf2b",
   "metadata": {},
   "outputs": [
    {
     "name": "stdout",
     "output_type": "stream",
     "text": [
      "[14, 8, 0.9452, 0.4386]\n"
     ]
    }
   ],
   "source": [
    "print(sol)"
   ]
  },
  {
   "cell_type": "code",
   "execution_count": 78,
   "id": "08d06462-6aae-4280-8336-fc9933c95b75",
   "metadata": {},
   "outputs": [
    {
     "name": "stdout",
     "output_type": "stream",
     "text": [
      "Results saved to validation_accuracy_results.csv\n"
     ]
    }
   ],
   "source": [
    "# Save the results to a CSV file\n",
    "csv_file = 'validation_accuracy_results.csv'\n",
    "with open(csv_file, 'w', newline='') as f:\n",
    "    writer = csv.writer(f)\n",
    "    # Write the header\n",
    "    header = ['Max Depth / Max Features'] + [str(feature) for feature in max_features]\n",
    "    writer.writerow(header)\n",
    "    # Write the data\n",
    "    for i, depth in enumerate(max_depth):\n",
    "        row = [str(depth)]\n",
    "        for j, feature in enumerate(max_features):\n",
    "            if results[i, j] is not None:\n",
    "                row.append(f\"{results[i, j]}\")\n",
    "            else:\n",
    "                row.append(\"N/A / N/A\")\n",
    "        writer.writerow(row)\n",
    "\n",
    "print(f\"Results saved to {csv_file}\")"
   ]
  },
  {
   "cell_type": "code",
   "execution_count": null,
   "id": "22e80691-fbee-41b7-a2a5-7b4ca78fac74",
   "metadata": {},
   "outputs": [],
   "source": []
  }
 ],
 "metadata": {
  "kernelspec": {
   "display_name": "Python 3 (ipykernel)",
   "language": "python",
   "name": "python3"
  },
  "language_info": {
   "codemirror_mode": {
    "name": "ipython",
    "version": 3
   },
   "file_extension": ".py",
   "mimetype": "text/x-python",
   "name": "python",
   "nbconvert_exporter": "python",
   "pygments_lexer": "ipython3",
   "version": "3.11.4"
  }
 },
 "nbformat": 4,
 "nbformat_minor": 5
}
