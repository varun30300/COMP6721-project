{
 "cells": [
  {
   "cell_type": "code",
   "execution_count": 1,
   "id": "f774c2a5-7ea3-4935-bcb1-14f31f55f1db",
   "metadata": {},
   "outputs": [],
   "source": [
    "import os\n",
    "import cv2\n",
    "import numpy as np\n",
    "from sklearn.tree import DecisionTreeClassifier\n",
    "from sklearn.metrics import accuracy_score\n",
    "import matplotlib.pyplot as plt"
   ]
  },
  {
   "cell_type": "code",
   "execution_count": 2,
   "id": "bff6e5d5-67cf-47c4-85bc-0d7885d49057",
   "metadata": {},
   "outputs": [],
   "source": [
    "def calculate_histogram(image):\n",
    "    # Convert image to HSV color space\n",
    "    hsv_image = cv2.cvtColor(image, cv2.COLOR_BGR2HSV)\n",
    "    # Calculate histogram for the hue channel\n",
    "    hist = cv2.calcHist([hsv_image], [0], None, [180], [0, 180])\n",
    "    # Normalize histogram\n",
    "    hist = cv2.normalize(hist, hist)\n",
    "    return hist.flatten()"
   ]
  },
  {
   "cell_type": "code",
   "execution_count": 3,
   "id": "e0fe021c-675e-4dfc-84b7-8012ddcd695e",
   "metadata": {},
   "outputs": [],
   "source": [
    "def extract_color_histogram(image, bins):\n",
    "    hist_red = np.histogram(image[:, :, 0], bins=bins, range=(0, 256))[0]\n",
    "    hist_green = np.histogram(image[:, :, 1], bins=bins, range=(0, 256))[0]\n",
    "    hist_blue = np.histogram(image[:, :, 2], bins=bins, range=(0, 256))[0]\n",
    "    res = np.concatenate((hist_red, hist_green, hist_blue))\n",
    "    return res"
   ]
  },
  {
   "cell_type": "code",
   "execution_count": 4,
   "id": "a300b4cd-b022-41ef-b3cb-44d753538757",
   "metadata": {},
   "outputs": [],
   "source": [
    "def load_data(folder):\n",
    "    X = []\n",
    "    y = []\n",
    "    classes = os.listdir(folder)\n",
    "    total_images = 0\n",
    "    for cls in classes:\n",
    "        class_folder = os.path.join(folder, cls)\n",
    "        num_images = len(os.listdir(class_folder))\n",
    "        print()\n",
    "        print(f\"Loading data for class {cls} with {num_images} images.\")\n",
    "        total_images += num_images\n",
    "        curr = 0\n",
    "        for filename in os.listdir(class_folder):\n",
    "            image_path = os.path.join(class_folder, filename)\n",
    "            image = cv2.imread(image_path)\n",
    "            if image is not None:\n",
    "                hist = extract_color_histogram(image,17)\n",
    "                X.append(hist)\n",
    "                y.append(cls)\n",
    "                curr += 1\n",
    "                if curr %100 == 0 :\n",
    "                    print(curr, end = \"=>\")\n",
    "    print(f\"Total images loaded: {total_images}\")\n",
    "    return [np.array(X), np.array(y)]"
   ]
  },
  {
   "cell_type": "code",
   "execution_count": 5,
   "id": "87262880-372c-43d4-9902-13518baf4ee6",
   "metadata": {},
   "outputs": [],
   "source": [
    "def plot_histogram(hist, cls):\n",
    "    plt.figure()\n",
    "    plt.title(f'Color Histogram for Class {cls}')\n",
    "    plt.xlabel('Hue Value')\n",
    "    plt.ylabel('Frequency')\n",
    "    plt.plot(hist, color='blue')\n",
    "    plt.show()"
   ]
  },
  {
   "cell_type": "code",
   "execution_count": 6,
   "id": "6b00ee4d-dc5b-466f-98a1-fcd492dd6e87",
   "metadata": {},
   "outputs": [
    {
     "name": "stdout",
     "output_type": "stream",
     "text": [
      "\n",
      "Loading data for class airfield with 1000 images.\n",
      "100=>200=>300=>400=>500=>600=>700=>800=>900=>1000=>\n",
      "Loading data for class bus stand with 1000 images.\n",
      "100=>200=>300=>400=>500=>600=>700=>800=>900=>1000=>\n",
      "Loading data for class canyon with 1000 images.\n",
      "100=>200=>300=>400=>500=>600=>700=>800=>900=>1000=>\n",
      "Loading data for class market with 1000 images.\n",
      "100=>200=>300=>400=>500=>600=>700=>800=>900=>1000=>\n",
      "Loading data for class temple with 1000 images.\n",
      "100=>200=>300=>400=>500=>600=>700=>800=>900=>1000=>Total images loaded: 5000\n",
      "[array([[  4323,   5056,   6082, ...,  18237,  18311,   5054],\n",
      "       [  2681,   5349,  14025, ...,   6932,   6151,   6413],\n",
      "       [ 42222,  40671,  34653, ...,  63591,  47005, 119177],\n",
      "       ...,\n",
      "       [     3,   1165,  14878, ...,  10273,  11599,  16484],\n",
      "       [  8398,  28284,  44513, ...,   5732,   3009,   1513],\n",
      "       [ 39745,  38691,  48036, ...,  14480,   2497,    117]], dtype=int64), array(['airfield', 'airfield', 'airfield', ..., 'temple', 'temple',\n",
      "       'temple'], dtype='<U9')]\n"
     ]
    }
   ],
   "source": [
    "validation_folder = \"D:/Study\\COMP 6721/COMP6721-project/Dataset/Validation\"\n",
    "features = load_data(validation_folder)\n",
    "print(features)\n",
    "# X_val, y_val = load_data(validation_folder)"
   ]
  },
  {
   "cell_type": "code",
   "execution_count": 250,
   "id": "114972f0-f00e-40f4-b42c-ca6b67be553f",
   "metadata": {},
   "outputs": [
    {
     "data": {
      "text/html": [
       "<style>#sk-container-id-16 {color: black;}#sk-container-id-16 pre{padding: 0;}#sk-container-id-16 div.sk-toggleable {background-color: white;}#sk-container-id-16 label.sk-toggleable__label {cursor: pointer;display: block;width: 100%;margin-bottom: 0;padding: 0.3em;box-sizing: border-box;text-align: center;}#sk-container-id-16 label.sk-toggleable__label-arrow:before {content: \"▸\";float: left;margin-right: 0.25em;color: #696969;}#sk-container-id-16 label.sk-toggleable__label-arrow:hover:before {color: black;}#sk-container-id-16 div.sk-estimator:hover label.sk-toggleable__label-arrow:before {color: black;}#sk-container-id-16 div.sk-toggleable__content {max-height: 0;max-width: 0;overflow: hidden;text-align: left;background-color: #f0f8ff;}#sk-container-id-16 div.sk-toggleable__content pre {margin: 0.2em;color: black;border-radius: 0.25em;background-color: #f0f8ff;}#sk-container-id-16 input.sk-toggleable__control:checked~div.sk-toggleable__content {max-height: 200px;max-width: 100%;overflow: auto;}#sk-container-id-16 input.sk-toggleable__control:checked~label.sk-toggleable__label-arrow:before {content: \"▾\";}#sk-container-id-16 div.sk-estimator input.sk-toggleable__control:checked~label.sk-toggleable__label {background-color: #d4ebff;}#sk-container-id-16 div.sk-label input.sk-toggleable__control:checked~label.sk-toggleable__label {background-color: #d4ebff;}#sk-container-id-16 input.sk-hidden--visually {border: 0;clip: rect(1px 1px 1px 1px);clip: rect(1px, 1px, 1px, 1px);height: 1px;margin: -1px;overflow: hidden;padding: 0;position: absolute;width: 1px;}#sk-container-id-16 div.sk-estimator {font-family: monospace;background-color: #f0f8ff;border: 1px dotted black;border-radius: 0.25em;box-sizing: border-box;margin-bottom: 0.5em;}#sk-container-id-16 div.sk-estimator:hover {background-color: #d4ebff;}#sk-container-id-16 div.sk-parallel-item::after {content: \"\";width: 100%;border-bottom: 1px solid gray;flex-grow: 1;}#sk-container-id-16 div.sk-label:hover label.sk-toggleable__label {background-color: #d4ebff;}#sk-container-id-16 div.sk-serial::before {content: \"\";position: absolute;border-left: 1px solid gray;box-sizing: border-box;top: 0;bottom: 0;left: 50%;z-index: 0;}#sk-container-id-16 div.sk-serial {display: flex;flex-direction: column;align-items: center;background-color: white;padding-right: 0.2em;padding-left: 0.2em;position: relative;}#sk-container-id-16 div.sk-item {position: relative;z-index: 1;}#sk-container-id-16 div.sk-parallel {display: flex;align-items: stretch;justify-content: center;background-color: white;position: relative;}#sk-container-id-16 div.sk-item::before, #sk-container-id-16 div.sk-parallel-item::before {content: \"\";position: absolute;border-left: 1px solid gray;box-sizing: border-box;top: 0;bottom: 0;left: 50%;z-index: -1;}#sk-container-id-16 div.sk-parallel-item {display: flex;flex-direction: column;z-index: 1;position: relative;background-color: white;}#sk-container-id-16 div.sk-parallel-item:first-child::after {align-self: flex-end;width: 50%;}#sk-container-id-16 div.sk-parallel-item:last-child::after {align-self: flex-start;width: 50%;}#sk-container-id-16 div.sk-parallel-item:only-child::after {width: 0;}#sk-container-id-16 div.sk-dashed-wrapped {border: 1px dashed gray;margin: 0 0.4em 0.5em 0.4em;box-sizing: border-box;padding-bottom: 0.4em;background-color: white;}#sk-container-id-16 div.sk-label label {font-family: monospace;font-weight: bold;display: inline-block;line-height: 1.2em;}#sk-container-id-16 div.sk-label-container {text-align: center;}#sk-container-id-16 div.sk-container {/* jupyter's `normalize.less` sets `[hidden] { display: none; }` but bootstrap.min.css set `[hidden] { display: none !important; }` so we also need the `!important` here to be able to override the default hidden behavior on the sphinx rendered scikit-learn.org. See: https://github.com/scikit-learn/scikit-learn/issues/21755 */display: inline-block !important;position: relative;}#sk-container-id-16 div.sk-text-repr-fallback {display: none;}</style><div id=\"sk-container-id-16\" class=\"sk-top-container\"><div class=\"sk-text-repr-fallback\"><pre>DecisionTreeClassifier(criterion=&#x27;entropy&#x27;, max_depth=10, max_features=5)</pre><b>In a Jupyter environment, please rerun this cell to show the HTML representation or trust the notebook. <br />On GitHub, the HTML representation is unable to render, please try loading this page with nbviewer.org.</b></div><div class=\"sk-container\" hidden><div class=\"sk-item\"><div class=\"sk-estimator sk-toggleable\"><input class=\"sk-toggleable__control sk-hidden--visually\" id=\"sk-estimator-id-16\" type=\"checkbox\" checked><label for=\"sk-estimator-id-16\" class=\"sk-toggleable__label sk-toggleable__label-arrow\">DecisionTreeClassifier</label><div class=\"sk-toggleable__content\"><pre>DecisionTreeClassifier(criterion=&#x27;entropy&#x27;, max_depth=10, max_features=5)</pre></div></div></div></div></div>"
      ],
      "text/plain": [
       "DecisionTreeClassifier(criterion='entropy', max_depth=10, max_features=5)"
      ]
     },
     "execution_count": 250,
     "metadata": {},
     "output_type": "execute_result"
    }
   ],
   "source": [
    "# Train decision tree classifier\n",
    "# classifier = DecisionTreeClassifier()\n",
    "classifier = DecisionTreeClassifier(criterion='entropy',max_depth=10, max_features=5)\n",
    "classifier.fit(X_val, y_val)"
   ]
  },
  {
   "cell_type": "code",
   "execution_count": 251,
   "id": "b8dfd212-df85-41d1-bac4-781b5ff529c5",
   "metadata": {},
   "outputs": [
    {
     "name": "stdout",
     "output_type": "stream",
     "text": [
      "Accuracy: 0.5424666666666667\n"
     ]
    }
   ],
   "source": [
    "# Evaluate classifier\n",
    "y_pred = classifier.predict(X_val)\n",
    "accuracy = accuracy_score(y_val, y_pred)\n",
    "print(\"Accuracy:\", accuracy)"
   ]
  },
  {
   "cell_type": "code",
   "execution_count": 252,
   "id": "ee26a454-cea3-4c05-8628-26224b3a9a04",
   "metadata": {},
   "outputs": [],
   "source": [
    "def classify_image(image_path, classifier):\n",
    "    # Load the image\n",
    "    image = cv2.imread(image_path)\n",
    "    if image is None:\n",
    "        print(f\"Failed to load image at {image_path}\")\n",
    "        return None\n",
    "\n",
    "    # Calculate histogram for the image\n",
    "    hist = extract_color_histogram(image,17)\n",
    "\n",
    "    # Reshape the histogram to match the shape expected by the classifier\n",
    "    hist = hist.reshape(1, -1)\n",
    "\n",
    "    # Predict the class of the image\n",
    "    predicted_class = classifier.predict(hist)[0]\n",
    "    return predicted_class"
   ]
  },
  {
   "cell_type": "code",
   "execution_count": 253,
   "id": "8cd30313-7354-488c-8b2b-e98ce9611832",
   "metadata": {},
   "outputs": [
    {
     "name": "stdout",
     "output_type": "stream",
     "text": [
      "\n",
      "Loading data for class airfield with 1000 images.\n",
      "100=>200=>300=>400=>500=>600=>700=>800=>900=>1000=>\n",
      "Loading data for class bus stand with 1000 images.\n",
      "100=>200=>300=>400=>500=>600=>700=>800=>900=>1000=>\n",
      "Loading data for class canyon with 1000 images.\n",
      "100=>200=>300=>400=>500=>600=>700=>800=>900=>1000=>\n",
      "Loading data for class market with 1000 images.\n",
      "100=>200=>300=>400=>500=>600=>700=>800=>900=>1000=>\n",
      "Loading data for class temple with 1000 images.\n",
      "100=>200=>300=>400=>500=>600=>700=>800=>900=>1000=>Total images loaded: 5000\n",
      "Test Accuracy: 0.4258\n"
     ]
    }
   ],
   "source": [
    "# test_path = \"D:/Study/COMP 6721/Project/COMP6721-project/Dataset/Test/airfield/00000014.jpg\"\n",
    "# predicted_class = classify_image(image_path, classifier)\n",
    "# print(\"Predicted class:\", predicted_class)\n",
    "\n",
    "test_path = \"D:/Study/COMP 6721/Project/COMP6721-project/Dataset/Test\"\n",
    "X_test_val, y_test_val = load_data(test_path)\n",
    "y_test_pred = classifier.predict(X_test_val)\n",
    "test_accuracy = accuracy_score(y_test_val, y_test_pred)\n",
    "print(\"Test Accuracy:\", test_accuracy)"
   ]
  },
  {
   "cell_type": "code",
   "execution_count": null,
   "id": "418f4763-9a29-4e2f-be7b-fbd6403578a9",
   "metadata": {},
   "outputs": [],
   "source": []
  }
 ],
 "metadata": {
  "kernelspec": {
   "display_name": "Python 3 (ipykernel)",
   "language": "python",
   "name": "python3"
  },
  "language_info": {
   "codemirror_mode": {
    "name": "ipython",
    "version": 3
   },
   "file_extension": ".py",
   "mimetype": "text/x-python",
   "name": "python",
   "nbconvert_exporter": "python",
   "pygments_lexer": "ipython3",
   "version": "3.11.4"
  }
 },
 "nbformat": 4,
 "nbformat_minor": 5
}
