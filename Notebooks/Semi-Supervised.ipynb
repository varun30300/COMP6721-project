{
  "nbformat": 4,
  "nbformat_minor": 0,
  "metadata": {
    "colab": {
      "provenance": [],
      "machine_shape": "hm"
    },
    "kernelspec": {
      "name": "python3",
      "display_name": "Python 3"
    },
    "language_info": {
      "name": "python"
    }
  },
  "cells": [
    {
      "cell_type": "code",
      "execution_count": 1,
      "metadata": {
        "colab": {
          "base_uri": "https://localhost:8080/"
        },
        "id": "L1FfTKt2WKjM",
        "outputId": "55956a1c-981f-4bfc-948b-be64e1e3628a"
      },
      "outputs": [
        {
          "output_type": "stream",
          "name": "stdout",
          "text": [
            "Mounted at /content/drive\n"
          ]
        }
      ],
      "source": [
        "from google.colab import drive\n",
        "drive.mount('/content/drive')"
      ]
    },
    {
      "cell_type": "code",
      "source": [
        "\n",
        "import pickle\n",
        "import numpy as np\n",
        "import csv\n",
        "from sklearn.tree import DecisionTreeClassifier\n",
        "from sklearn.metrics import accuracy_score"
      ],
      "metadata": {
        "id": "xQRgYDCVWZ3o"
      },
      "execution_count": 2,
      "outputs": []
    },
    {
      "cell_type": "code",
      "source": [
        "def load_features(pickle_file):\n",
        "    with open(pickle_file, 'rb') as f:\n",
        "        features = pickle.load(f)\n",
        "    return features"
      ],
      "metadata": {
        "id": "6Zz2cfzCWebU"
      },
      "execution_count": 38,
      "outputs": []
    },
    {
      "cell_type": "code",
      "source": [
        "train_features = load_features(\"/content/drive/My Drive/Train_Features.pkl\")"
      ],
      "metadata": {
        "id": "NzYt8IkTWhCh"
      },
      "execution_count": 39,
      "outputs": []
    },
    {
      "cell_type": "code",
      "source": [
        "images,labels = train_features"
      ],
      "metadata": {
        "colab": {
          "base_uri": "https://localhost:8080/"
        },
        "id": "rWlby1DrWpJr",
        "outputId": "4282108a-5e6f-405a-d567-d087f80d1f4f"
      },
      "execution_count": 47,
      "outputs": [
        {
          "output_type": "stream",
          "name": "stdout",
          "text": [
            "bus stand\n"
          ]
        }
      ]
    },
    {
      "cell_type": "code",
      "source": [
        "import numpy as np\n",
        "from sklearn.preprocessing import LabelEncoder\n",
        "from sklearn.model_selection import train_test_split\n",
        "from sklearn.tree import DecisionTreeClassifier\n",
        "from sklearn.metrics import accuracy_score\n",
        "import matplotlib.pyplot as plt"
      ],
      "metadata": {
        "id": "IDuh3OExXagv"
      },
      "execution_count": 48,
      "outputs": []
    },
    {
      "cell_type": "code",
      "source": [
        "label_encoder = LabelEncoder()\n",
        "y = label_encoder.fit_transform(labels)\n",
        "X_train, X_test, y_train, y_test = train_test_split(images, y, test_size=0.2, stratify=y)\n",
        "\n",
        "X_labeled, X_unlabeled, y_labeled, y_unlabeled = train_test_split(X_train, y_train, test_size=0.8)\n",
        "X_labeled = X_labeled.reshape(X_labeled.shape[0], -1)\n",
        "X_unlabeled = X_unlabeled.reshape(X_unlabeled.shape[0], -1)"
      ],
      "metadata": {
        "colab": {
          "base_uri": "https://localhost:8080/"
        },
        "id": "a2xH35paXdZs",
        "outputId": "7f671891-42ab-4699-eb75-025fe9161085"
      },
      "execution_count": 54,
      "outputs": [
        {
          "output_type": "stream",
          "name": "stdout",
          "text": [
            "[48500 44317 48396 45798 65057 22046  6253  6341 13708  2110   299   162\n",
            "   166  1712  5636 18566 62101 33797 25076 63627 34617 47707 46161 28348\n",
            " 15645  5734  1430   729   638  2562  5149 13503 26057 40388 13735 32643\n",
            " 58724 36438 25286 28005 29126 27669 23822 16456  9036  5083  6066 12313\n",
            " 17084 20503 29179]\n"
          ]
        }
      ]
    },
    {
      "cell_type": "code",
      "source": [
        "X_labeled_np = np.array(X_labeled)\n",
        "X_unlabeled_np = np.array(X_unlabeled)\n",
        "y_labeled_np = np.array(y_labeled)\n",
        "y_unlabeled_np = np.array(y_unlabeled)\n"
      ],
      "metadata": {
        "id": "_D7blLxCXfmU"
      },
      "execution_count": 8,
      "outputs": []
    },
    {
      "cell_type": "code",
      "source": [
        "from sklearn.tree import DecisionTreeClassifier\n",
        "criterion=['entropy']\n",
        "depth = 14\n",
        "features = 8\n",
        "# Initialize Decision Tree classifier\n",
        "tree_model = DecisionTreeClassifier(criterion='entropy',max_depth=depth, max_features=features)\n",
        "\n",
        "# Flatten image arrays\n",
        "X_train_labeled_flatten = X_labeled.reshape(X_labeled.shape[0], -1)\n",
        "\n",
        "# Train initial model on labeled data\n",
        "tree_model.fit(X_train_labeled_flatten, y_labeled)\n"
      ],
      "metadata": {
        "colab": {
          "base_uri": "https://localhost:8080/",
          "height": 75
        },
        "id": "f2j8mqk7Xhy-",
        "outputId": "44be46fa-94a3-4e1f-85e9-3fa728bb5830"
      },
      "execution_count": 69,
      "outputs": [
        {
          "output_type": "execute_result",
          "data": {
            "text/plain": [
              "DecisionTreeClassifier(criterion='entropy', max_depth=14, max_features=8)"
            ],
            "text/html": [
              "<style>#sk-container-id-3 {color: black;background-color: white;}#sk-container-id-3 pre{padding: 0;}#sk-container-id-3 div.sk-toggleable {background-color: white;}#sk-container-id-3 label.sk-toggleable__label {cursor: pointer;display: block;width: 100%;margin-bottom: 0;padding: 0.3em;box-sizing: border-box;text-align: center;}#sk-container-id-3 label.sk-toggleable__label-arrow:before {content: \"▸\";float: left;margin-right: 0.25em;color: #696969;}#sk-container-id-3 label.sk-toggleable__label-arrow:hover:before {color: black;}#sk-container-id-3 div.sk-estimator:hover label.sk-toggleable__label-arrow:before {color: black;}#sk-container-id-3 div.sk-toggleable__content {max-height: 0;max-width: 0;overflow: hidden;text-align: left;background-color: #f0f8ff;}#sk-container-id-3 div.sk-toggleable__content pre {margin: 0.2em;color: black;border-radius: 0.25em;background-color: #f0f8ff;}#sk-container-id-3 input.sk-toggleable__control:checked~div.sk-toggleable__content {max-height: 200px;max-width: 100%;overflow: auto;}#sk-container-id-3 input.sk-toggleable__control:checked~label.sk-toggleable__label-arrow:before {content: \"▾\";}#sk-container-id-3 div.sk-estimator input.sk-toggleable__control:checked~label.sk-toggleable__label {background-color: #d4ebff;}#sk-container-id-3 div.sk-label input.sk-toggleable__control:checked~label.sk-toggleable__label {background-color: #d4ebff;}#sk-container-id-3 input.sk-hidden--visually {border: 0;clip: rect(1px 1px 1px 1px);clip: rect(1px, 1px, 1px, 1px);height: 1px;margin: -1px;overflow: hidden;padding: 0;position: absolute;width: 1px;}#sk-container-id-3 div.sk-estimator {font-family: monospace;background-color: #f0f8ff;border: 1px dotted black;border-radius: 0.25em;box-sizing: border-box;margin-bottom: 0.5em;}#sk-container-id-3 div.sk-estimator:hover {background-color: #d4ebff;}#sk-container-id-3 div.sk-parallel-item::after {content: \"\";width: 100%;border-bottom: 1px solid gray;flex-grow: 1;}#sk-container-id-3 div.sk-label:hover label.sk-toggleable__label {background-color: #d4ebff;}#sk-container-id-3 div.sk-serial::before {content: \"\";position: absolute;border-left: 1px solid gray;box-sizing: border-box;top: 0;bottom: 0;left: 50%;z-index: 0;}#sk-container-id-3 div.sk-serial {display: flex;flex-direction: column;align-items: center;background-color: white;padding-right: 0.2em;padding-left: 0.2em;position: relative;}#sk-container-id-3 div.sk-item {position: relative;z-index: 1;}#sk-container-id-3 div.sk-parallel {display: flex;align-items: stretch;justify-content: center;background-color: white;position: relative;}#sk-container-id-3 div.sk-item::before, #sk-container-id-3 div.sk-parallel-item::before {content: \"\";position: absolute;border-left: 1px solid gray;box-sizing: border-box;top: 0;bottom: 0;left: 50%;z-index: -1;}#sk-container-id-3 div.sk-parallel-item {display: flex;flex-direction: column;z-index: 1;position: relative;background-color: white;}#sk-container-id-3 div.sk-parallel-item:first-child::after {align-self: flex-end;width: 50%;}#sk-container-id-3 div.sk-parallel-item:last-child::after {align-self: flex-start;width: 50%;}#sk-container-id-3 div.sk-parallel-item:only-child::after {width: 0;}#sk-container-id-3 div.sk-dashed-wrapped {border: 1px dashed gray;margin: 0 0.4em 0.5em 0.4em;box-sizing: border-box;padding-bottom: 0.4em;background-color: white;}#sk-container-id-3 div.sk-label label {font-family: monospace;font-weight: bold;display: inline-block;line-height: 1.2em;}#sk-container-id-3 div.sk-label-container {text-align: center;}#sk-container-id-3 div.sk-container {/* jupyter's `normalize.less` sets `[hidden] { display: none; }` but bootstrap.min.css set `[hidden] { display: none !important; }` so we also need the `!important` here to be able to override the default hidden behavior on the sphinx rendered scikit-learn.org. See: https://github.com/scikit-learn/scikit-learn/issues/21755 */display: inline-block !important;position: relative;}#sk-container-id-3 div.sk-text-repr-fallback {display: none;}</style><div id=\"sk-container-id-3\" class=\"sk-top-container\"><div class=\"sk-text-repr-fallback\"><pre>DecisionTreeClassifier(criterion=&#x27;entropy&#x27;, max_depth=14, max_features=8)</pre><b>In a Jupyter environment, please rerun this cell to show the HTML representation or trust the notebook. <br />On GitHub, the HTML representation is unable to render, please try loading this page with nbviewer.org.</b></div><div class=\"sk-container\" hidden><div class=\"sk-item\"><div class=\"sk-estimator sk-toggleable\"><input class=\"sk-toggleable__control sk-hidden--visually\" id=\"sk-estimator-id-3\" type=\"checkbox\" checked><label for=\"sk-estimator-id-3\" class=\"sk-toggleable__label sk-toggleable__label-arrow\">DecisionTreeClassifier</label><div class=\"sk-toggleable__content\"><pre>DecisionTreeClassifier(criterion=&#x27;entropy&#x27;, max_depth=14, max_features=8)</pre></div></div></div></div></div>"
            ]
          },
          "metadata": {},
          "execution_count": 69
        }
      ]
    },
    {
      "cell_type": "code",
      "source": [
        "# Predicting labels for unlabeled data\n",
        "pseudo_labels = tree_model.predict(X_unlabeled.reshape(X_unlabeled.shape[0], -1))\n",
        "\n",
        "confidence_threshold = 0.9\n",
        "confidence_scores = tree_model.predict_proba(X_unlabeled.reshape(X_unlabeled.shape[0], -1)).max(axis=1)\n",
        "confident_predictions = confidence_scores > confidence_threshold\n",
        "\n",
        "X_confident = X_unlabeled[confident_predictions]\n",
        "pseudo_labels_confident = pseudo_labels[confident_predictions]\n",
        "X_train_labeled = np.concatenate([X_labeled, X_confident])\n",
        "y_train_labeled = np.concatenate([y_labeled, pseudo_labels_confident])"
      ],
      "metadata": {
        "id": "yIUyvFBPffg_"
      },
      "execution_count": 70,
      "outputs": []
    },
    {
      "cell_type": "code",
      "source": [
        "\n",
        "X_train_labeled_flatten = X_train_labeled.reshape(X_train_labeled.shape[0], -1)\n",
        "\n",
        "# Retraining model with expanded labeled data\n",
        "tree_model.fit(X_train_labeled_flatten, y_train_labeled)\n",
        "y_pred = tree_model.predict(X_test.reshape(X_test.shape[0], -1))\n",
        "\n",
        "accuracy = np.mean(y_pred == y_test)\n",
        "print(\"Accuracy of the semi-supervised model:\", accuracy)"
      ],
      "metadata": {
        "colab": {
          "base_uri": "https://localhost:8080/"
        },
        "id": "f4uTprShfpO3",
        "outputId": "84a7fea6-a036-4031-c1a2-4a8760f640f1"
      },
      "execution_count": 73,
      "outputs": [
        {
          "output_type": "stream",
          "name": "stdout",
          "text": [
            "Accuracy of the semi-supervised model: 0.35733333333333334\n"
          ]
        }
      ]
    },
    {
      "cell_type": "code",
      "source": [
        "from sklearn.metrics import precision_recall_fscore_support\n",
        "\n",
        "#precision, recall, and F1-score\n",
        "precision, recall, f1_score, _ = precision_recall_fscore_support(y_test, y_pred, average='weighted')\n",
        "print(\"Precision: {:.2f}\".format(round(precision, 2)))\n",
        "print(\"Recall: {:.2f}\".format(round(recall, 2)))\n",
        "print(\"F1-score: {:.2f}\".format(round(f1_score, 2)))\n",
        "\n",
        "metrics = ['Precision', 'Recall', 'F1-score']\n",
        "values = [precision, recall, f1_score]\n",
        "\n",
        "plt.figure(figsize=(8, 5))\n",
        "plt.bar(metrics, values, color=['blue', 'green', 'orange'])\n",
        "plt.title('Precision, Recall, and F1-score')\n",
        "plt.xlabel('Metrics')\n",
        "plt.ylabel('Score')\n",
        "plt.ylim(0, 1)\n",
        "plt.show()\n"
      ],
      "metadata": {
        "colab": {
          "base_uri": "https://localhost:8080/",
          "height": 542
        },
        "id": "4hGnEuLJX1iS",
        "outputId": "cbb79fe0-0d81-496d-a8eb-671f2a8e5505"
      },
      "execution_count": 74,
      "outputs": [
        {
          "output_type": "stream",
          "name": "stdout",
          "text": [
            "Precision: 0.37\n",
            "Recall: 0.36\n",
            "F1-score: 0.36\n"
          ]
        },
        {
          "output_type": "display_data",
          "data": {
            "text/plain": [
              "<Figure size 800x500 with 1 Axes>"
            ],
            "image/png": "[encoded data removed]"
          },
          "metadata": {}
        }
      ]
    },
    {
      "cell_type": "code",
      "source": [
        "from sklearn.metrics import classification_report\n",
        "\n",
        "report = classification_report(y_test, y_pred, target_names=label_encoder.classes_)\n",
        "\n",
        "print(report)"
      ],
      "metadata": {
        "colab": {
          "base_uri": "https://localhost:8080/"
        },
        "id": "y0yXaKuOX47A",
        "outputId": "db98ce7d-375c-435b-c25b-e544c0cb19e7"
      },
      "execution_count": 75,
      "outputs": [
        {
          "output_type": "stream",
          "name": "stdout",
          "text": [
            "              precision    recall  f1-score   support\n",
            "\n",
            "    airfield       0.52      0.40      0.45       600\n",
            "   bus stand       0.30      0.38      0.34       600\n",
            "      canyon       0.33      0.34      0.33       600\n",
            "      market       0.40      0.38      0.39       600\n",
            "      temple       0.30      0.29      0.29       600\n",
            "\n",
            "    accuracy                           0.36      3000\n",
            "   macro avg       0.37      0.36      0.36      3000\n",
            "weighted avg       0.37      0.36      0.36      3000\n",
            "\n"
          ]
        }
      ]
    },
    {
      "cell_type": "code",
      "source": [
        "from sklearn.metrics import confusion_matrix\n",
        "import seaborn as sns\n",
        "\n",
        "\n",
        "cm = confusion_matrix(y_test, y_pred)\n",
        "diagonal_cm = np.zeros_like(cm)\n",
        "np.fill_diagonal(diagonal_cm, np.diagonal(cm))\n",
        "plt.figure(figsize=(10, 7))\n",
        "sns.heatmap(diagonal_cm, annot=True, fmt='d', cmap='Blues', xticklabels=label_encoder.classes_, yticklabels=label_encoder.classes_)\n",
        "plt.title('Confusion Matrix')\n",
        "plt.xlabel('Predicted Label')\n",
        "plt.ylabel('True Label')\n",
        "plt.xticks(rotation=90)\n",
        "plt.yticks(rotation=0)\n",
        "plt.show()\n"
      ],
      "metadata": {
        "colab": {
          "base_uri": "https://localhost:8080/",
          "height": 695
        },
        "id": "f8z5TB1QX7lY",
        "outputId": "95308cba-efd5-4447-fd11-91b3d656d9f8"
      },
      "execution_count": 77,
      "outputs": [
        {
          "output_type": "display_data",
          "data": {
            "text/plain": [
              "<Figure size 1000x700 with 2 Axes>"
            ],
            "image/png": "[encoded data removed]"
          },
          "metadata": {}
        }
      ]
    }
  ]
}