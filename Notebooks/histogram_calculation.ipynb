{
 "cells": [
  {
   "cell_type": "code",
   "execution_count": 1,
   "id": "a3bc771b-b6ac-45be-a937-7f38c5d4c543",
   "metadata": {},
   "outputs": [],
   "source": [
    "# https://docs.opencv.org/3.4/d8/dbc/tutorial_histogram_calculation.html#:~:text=What%20OpenCV%20offers%20you,it%20in%20the%20code%20below!"
   ]
  },
  {
   "cell_type": "code",
   "execution_count": 136,
   "id": "c73aa224-cdbd-4ba5-b846-54b4c638f06e",
   "metadata": {},
   "outputs": [],
   "source": [
    "import cv2\n",
    "from IPython.display import display, Image\n",
    "import numpy as np"
   ]
  },
  {
   "cell_type": "code",
   "execution_count": 137,
   "id": "a8c31124-2a35-4eb1-89e3-ed40c766bce1",
   "metadata": {},
   "outputs": [],
   "source": [
    "input = \"D:/Study/COMP 6721/COMP6721-project/Dataset/Validation/temple/00001099.jpg\""
   ]
  },
  {
   "cell_type": "code",
   "execution_count": 138,
   "id": "50a5a0a4-7c60-4e25-ba29-9c7b1f4c3b0e",
   "metadata": {},
   "outputs": [],
   "source": [
    "src = cv2.imread(input)\n",
    "image_rgb = cv2.cvtColor(src, cv2.COLOR_BGR2RGB)"
   ]
  },
  {
   "cell_type": "code",
   "execution_count": 139,
   "id": "8db5d1c7-2668-4649-8ceb-d2e0cbbf356c",
   "metadata": {},
   "outputs": [
    {
     "name": "stdout",
     "output_type": "stream",
     "text": [
      "[46 75 50]\n"
     ]
    }
   ],
   "source": [
    "print(src[110][110])"
   ]
  },
  {
   "cell_type": "code",
   "execution_count": 147,
   "id": "37083c26-a21f-49b4-8d0a-e442b8ff1d91",
   "metadata": {},
   "outputs": [],
   "source": [
    "def extract_color_histogram(image):\n",
    "    hist_red = np.histogram(image[:, :, 0], bins=17, range=(0, 255))[0]\n",
    "    hist_green = np.histogram(image[:, :, 1], bins=17, range=(0, 256))[0]\n",
    "    hist_blue = np.histogram(image[:, :, 2], bins=17, range=(0, 256))[0]\n",
    "    res = np.concatenate((hist_red, hist_green, hist_blue))\n",
    "    return res"
   ]
  },
  {
   "cell_type": "code",
   "execution_count": 151,
   "id": "601ce811-db68-4547-a812-b6afedc68b96",
   "metadata": {},
   "outputs": [
    {
     "name": "stdout",
     "output_type": "stream",
     "text": [
      "[15729 30500 49245 54451 26274 13547  9977  6967  5558 13057 17635 27246\n",
      " 20462 14843  8078  4140 31987  4116  8118 15098 23663 35042 48368 40594\n",
      " 20204 15704 21682 30873 28385 15230  7464  2519  3274 29362  7710 18232\n",
      " 25172 40112 45683 34596 21298 17494 26762 35446 23445 12744  5313  2188\n",
      "  4056  9910 19535]\n"
     ]
    }
   ],
   "source": [
    "res = extract_color_histogram(src)\n",
    "print(res)"
   ]
  },
  {
   "cell_type": "code",
   "execution_count": null,
   "id": "a41692a6-f701-4062-a8da-b0837750f059",
   "metadata": {},
   "outputs": [],
   "source": []
  }
 ],
 "metadata": {
  "kernelspec": {
   "display_name": "Python 3 (ipykernel)",
   "language": "python",
   "name": "python3"
  },
  "language_info": {
   "codemirror_mode": {
    "name": "ipython",
    "version": 3
   },
   "file_extension": ".py",
   "mimetype": "text/x-python",
   "name": "python",
   "nbconvert_exporter": "python",
   "pygments_lexer": "ipython3",
   "version": "3.11.4"
  }
 },
 "nbformat": 4,
 "nbformat_minor": 5
}
