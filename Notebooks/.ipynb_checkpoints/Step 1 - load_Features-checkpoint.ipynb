{
 "cells": [
  {
   "cell_type": "code",
   "execution_count": 17,
   "id": "de65fd7f-5c48-47eb-8424-cf86081ac56e",
   "metadata": {},
   "outputs": [],
   "source": [
    "import os\n",
    "import cv2\n",
    "import numpy as np\n",
    "from sklearn.tree import DecisionTreeClassifier\n",
    "from sklearn.metrics import accuracy_score\n",
    "import matplotlib.pyplot as plt\n",
    "import numpy as np\n",
    "import pickle"
   ]
  },
  {
   "cell_type": "code",
   "execution_count": 18,
   "id": "095b7a48-6fbe-47e5-98e1-8a10d2e9846e",
   "metadata": {},
   "outputs": [],
   "source": [
    "def extract_color_histogram(image, bins):\n",
    "    hist_red = np.histogram(image[:, :, 0], bins=bins, range=(0, 256))[0]\n",
    "    hist_green = np.histogram(image[:, :, 1], bins=bins, range=(0, 256))[0]\n",
    "    hist_blue = np.histogram(image[:, :, 2], bins=bins, range=(0, 256))[0]\n",
    "    res = np.concatenate((hist_red, hist_green, hist_blue))\n",
    "    return res"
   ]
  },
  {
   "cell_type": "code",
   "execution_count": 19,
   "id": "c6115ee0-94f4-401d-9e1f-9e3c4694ab90",
   "metadata": {},
   "outputs": [],
   "source": [
    "def load_and_save_data(output_file,folder):\n",
    "    X = []\n",
    "    y = []\n",
    "    classes = os.listdir(folder)\n",
    "    total_images = 0\n",
    "    for cls in classes:\n",
    "        class_folder = os.path.join(folder, cls)\n",
    "        num_images = len(os.listdir(class_folder))\n",
    "        print()\n",
    "        print(f\"Loading data for class {cls} with {num_images} images.\")\n",
    "        total_images += num_images\n",
    "        curr = 0\n",
    "        for filename in os.listdir(class_folder):\n",
    "            image_path = os.path.join(class_folder, filename)\n",
    "            image = cv2.imread(image_path)\n",
    "            if image is not None:\n",
    "                hist = extract_color_histogram(image,17)\n",
    "                X.append(hist)\n",
    "                y.append(cls)\n",
    "                curr += 1\n",
    "                if curr %100 == 0 :\n",
    "                    print(curr, end = \"=>\")\n",
    "    print(f\"Total images loaded: {total_images}\")\n",
    "    features = [np.array(X), np.array(y)] \n",
    "    with open(output_file, 'wb') as f:\n",
    "        pickle.dump(features, f)"
   ]
  },
  {
   "cell_type": "code",
   "execution_count": 20,
   "id": "da745135-f67e-4124-9260-59cb47da6bf6",
   "metadata": {},
   "outputs": [
    {
     "name": "stdout",
     "output_type": "stream",
     "text": [
      "\n",
      "Loading data for class airfield with 1000 images.\n",
      "100=>200=>300=>400=>500=>600=>700=>800=>900=>1000=>\n",
      "Loading data for class bus stand with 1000 images.\n",
      "100=>200=>300=>400=>500=>600=>700=>800=>900=>1000=>\n",
      "Loading data for class canyon with 1000 images.\n",
      "100=>200=>300=>400=>500=>600=>700=>800=>900=>1000=>\n",
      "Loading data for class market with 1000 images.\n",
      "100=>200=>300=>400=>500=>600=>700=>800=>900=>1000=>\n",
      "Loading data for class temple with 1000 images.\n",
      "100=>200=>300=>400=>500=>600=>700=>800=>900=>1000=>Total images loaded: 5000\n",
      "\n",
      "Loading data for class airfield with 1000 images.\n",
      "100=>200=>300=>400=>500=>600=>700=>800=>900=>1000=>\n",
      "Loading data for class bus stand with 1000 images.\n",
      "100=>200=>300=>400=>500=>600=>700=>800=>900=>1000=>\n",
      "Loading data for class canyon with 1000 images.\n",
      "100=>200=>300=>400=>500=>600=>700=>800=>900=>1000=>\n",
      "Loading data for class market with 1000 images.\n",
      "100=>200=>300=>400=>500=>600=>700=>800=>900=>1000=>\n",
      "Loading data for class temple with 1000 images.\n",
      "100=>200=>300=>400=>500=>600=>700=>800=>900=>1000=>Total images loaded: 5000\n",
      "\n",
      "Loading data for class airfield with 1000 images.\n",
      "100=>200=>300=>400=>500=>600=>700=>800=>900=>1000=>\n",
      "Loading data for class bus stand with 1000 images.\n",
      "100=>200=>300=>400=>500=>600=>700=>800=>900=>1000=>\n",
      "Loading data for class canyon with 1000 images.\n",
      "100=>200=>300=>400=>500=>600=>700=>800=>900=>1000=>\n",
      "Loading data for class market with 1000 images.\n",
      "100=>200=>300=>400=>500=>600=>700=>800=>900=>1000=>\n",
      "Loading data for class temple with 1000 images.\n",
      "100=>200=>300=>400=>500=>600=>700=>800=>900=>1000=>Total images loaded: 5000\n"
     ]
    }
   ],
   "source": [
    "validation_folder = \"D:/Study\\COMP 6721/COMP6721-project/Dataset/Validation\"\n",
    "train_folder = \"D:/Study\\COMP 6721/COMP6721-project/Dataset/Validation\"\n",
    "test_folder = \"D:/Study\\COMP 6721/COMP6721-project/Dataset/Validation\"\n",
    "all_set = [validation_folder, train_folder, test_folder]\n",
    "for set in all_set :\n",
    "    output = set.split(\"_\")[0] + \"features\"\n",
    "    load_and_save_data(output,validation_folder)"
   ]
  },
  {
   "cell_type": "code",
   "execution_count": null,
   "id": "143485d9-d93b-41d3-bfa2-58a9cbe7fc28",
   "metadata": {},
   "outputs": [],
   "source": []
  }
 ],
 "metadata": {
  "kernelspec": {
   "display_name": "Python 3 (ipykernel)",
   "language": "python",
   "name": "python3"
  },
  "language_info": {
   "codemirror_mode": {
    "name": "ipython",
    "version": 3
   },
   "file_extension": ".py",
   "mimetype": "text/x-python",
   "name": "python",
   "nbconvert_exporter": "python",
   "pygments_lexer": "ipython3",
   "version": "3.11.4"
  }
 },
 "nbformat": 4,
 "nbformat_minor": 5
}
